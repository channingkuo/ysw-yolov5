{
  "cells": [
    {
      "cell_type": "markdown",
      "metadata": {
        "id": "view-in-github",
        "colab_type": "text"
      },
      "source": [
        "<a href=\"https://colab.research.google.com/github/channingkuo/ysw-yolov5/blob/master/YSW_YOLOv5.ipynb\" target=\"_parent\"><img src=\"https://colab.research.google.com/assets/colab-badge.svg\" alt=\"Open In Colab\"/></a>"
      ]
    },
    {
      "cell_type": "markdown",
      "metadata": {
        "id": "FyRdDYkqAKN4"
      },
      "source": [
        "## Before you start\n",
        "\n",
        "Let's make sure that we have access to GPU. We can use `nvidia-smi` command to do that. In case of any problems navigate to `Edit` -> `Notebook settings` -> `Hardware accelerator`, set it to `GPU`, and then click `Save`."
      ]
    },
    {
      "cell_type": "code",
      "execution_count": null,
      "metadata": {
        "colab": {
          "base_uri": "https://localhost:8080/"
        },
        "id": "Y8cDtxLIBHgQ",
        "outputId": "9cd495cf-d5f7-4c3b-fc2f-b53cdb961b72"
      },
      "outputs": [
        {
          "output_type": "stream",
          "name": "stdout",
          "text": [
            "Fri Mar 24 02:44:20 2023       \n",
            "+-----------------------------------------------------------------------------+\n",
            "| NVIDIA-SMI 525.85.12    Driver Version: 525.85.12    CUDA Version: 12.0     |\n",
            "|-------------------------------+----------------------+----------------------+\n",
            "| GPU  Name        Persistence-M| Bus-Id        Disp.A | Volatile Uncorr. ECC |\n",
            "| Fan  Temp  Perf  Pwr:Usage/Cap|         Memory-Usage | GPU-Util  Compute M. |\n",
            "|                               |                      |               MIG M. |\n",
            "|===============================+======================+======================|\n",
            "|   0  Tesla T4            Off  | 00000000:00:04.0 Off |                    0 |\n",
            "| N/A   60C    P8    12W /  70W |      0MiB / 15360MiB |      0%      Default |\n",
            "|                               |                      |                  N/A |\n",
            "+-------------------------------+----------------------+----------------------+\n",
            "                                                                               \n",
            "+-----------------------------------------------------------------------------+\n",
            "| Processes:                                                                  |\n",
            "|  GPU   GI   CI        PID   Type   Process name                  GPU Memory |\n",
            "|        ID   ID                                                   Usage      |\n",
            "|=============================================================================|\n",
            "|  No running processes found                                                 |\n",
            "+-----------------------------------------------------------------------------+\n"
          ]
        }
      ],
      "source": [
        "!nvidia-smi"
      ]
    },
    {
      "cell_type": "code",
      "execution_count": null,
      "metadata": {
        "colab": {
          "base_uri": "https://localhost:8080/"
        },
        "id": "CjpPg4mGKc1v",
        "outputId": "30251a76-07fc-4205-856a-017c59a24c19"
      },
      "outputs": [
        {
          "output_type": "stream",
          "name": "stdout",
          "text": [
            "/content\n"
          ]
        }
      ],
      "source": [
        "import os\n",
        "HOME = os.getcwd()\n",
        "print(HOME)"
      ]
    },
    {
      "cell_type": "code",
      "source": [
        "# !git clone https://github.com/channingkuo/yolov5.git\n",
        "!git clone https://github.com/ultralytics/yolov5.git\n",
        "%cd yolov5\n",
        "%pip install -qr requirements.txt  # install\n",
        "\n",
        "import torch\n",
        "import utils\n",
        "display = utils.notebook_init()  # checks"
      ],
      "metadata": {
        "colab": {
          "base_uri": "https://localhost:8080/"
        },
        "id": "asfgMSUu2Re5",
        "outputId": "ae4dca95-cd88-4af8-e294-da0320672bba"
      },
      "execution_count": null,
      "outputs": [
        {
          "output_type": "stream",
          "name": "stderr",
          "text": [
            "YOLOv5 🚀 v7.0-128-gb96f35c Python-3.9.16 torch-1.13.1+cu116 CUDA:0 (Tesla T4, 15102MiB)\n"
          ]
        },
        {
          "output_type": "stream",
          "name": "stdout",
          "text": [
            "Setup complete ✅ (2 CPUs, 12.7 GB RAM, 31.0/78.2 GB disk)\n"
          ]
        }
      ]
    },
    {
      "cell_type": "markdown",
      "source": [
        "# **Datasets**"
      ],
      "metadata": {
        "id": "I3C2bMbiSGrE"
      }
    },
    {
      "cell_type": "code",
      "execution_count": null,
      "metadata": {
        "id": "BSd93ZJzZZKt"
      },
      "outputs": [],
      "source": [
        "!mkdir {HOME}/datasets\n",
        "\n",
        "import zipfile\n",
        "import urllib.request\n",
        "\n",
        "url = \"paste your datasets download url here!\"\n",
        "\n",
        "if url.endswith('paste your datasets download url here!'):\n",
        "  print('请把粘贴板中的内容替换上面url的内容!')\n",
        "else:\n",
        "  f = urllib.request.urlopen(url)\n",
        "  data = f.read()\n",
        "  with open(HOME + '/data.zip', \"wb\") as code:\n",
        "    code.write(data)\n",
        "    with zipfile.ZipFile(HOME + '/data.zip', 'r') as zip_ref:\n",
        "      zip_ref.extractall(HOME + \"/datasets\")"
      ]
    },
    {
      "cell_type": "markdown",
      "source": [
        "# **Train**"
      ],
      "metadata": {
        "id": "V-_VqDve2Zhp"
      }
    },
    {
      "cell_type": "code",
      "source": [
        "!mv {HOME}/datasets {HOME}/yolov5/\n",
        "\n",
        "!rm -rf {HOME}/yolov5/runs/train"
      ],
      "metadata": {
        "id": "uczH_koXaJJz"
      },
      "execution_count": null,
      "outputs": []
    },
    {
      "cell_type": "code",
      "source": [
        "# 自己按需调整 epochs\n",
        "!python train.py --data datasets/datasets/data.yaml --weights yolov5x.pt --img 640 --batch 16 --epochs 3"
      ],
      "metadata": {
        "id": "6AKIHwMG7AF5"
      },
      "execution_count": null,
      "outputs": []
    },
    {
      "cell_type": "markdown",
      "source": [
        "# **请到YPM系统对应的训练详情中复制相对应的上传模型代码，粘贴在下方运行!!!!**"
      ],
      "metadata": {
        "id": "MLbthyONuAy_"
      }
    },
    {
      "cell_type": "code",
      "source": [
        "# 请到YPM系统对应的训练详情中复制相对应的上传模型代码，粘贴在下方运行!!!!\n",
        "\n",
        "\n"
      ],
      "metadata": {
        "id": "m6TU6Tx2Yu5O"
      },
      "execution_count": null,
      "outputs": []
    },
    {
      "cell_type": "markdown",
      "source": [
        "# **测试调用YPM API!!!!**"
      ],
      "metadata": {
        "id": "1phjQP6OcUDx"
      }
    },
    {
      "cell_type": "code",
      "source": [
        "# 测试调用ypm api\n",
        "import requests\n",
        "msg = {'matId': 1700, 'trainId': 300, 'modelPath': 'test'}\n",
        "# 通知ypm保存模型路径到数据库中\n",
        "headers={\"Authorization\" : \"Bearer test_token\"}\n",
        "r = requests.post('http://test.com/api/ypm/aiTraining/update/model', json=msg, headers=headers, allow_redirects=False)\n",
        "print(r.json())"
      ],
      "metadata": {
        "id": "gF3a3sMiS91j",
        "colab": {
          "base_uri": "https://localhost:8080/"
        },
        "outputId": "9d0af980-d78c-4954-d8b3-4a56abeda29b"
      },
      "execution_count": null,
      "outputs": [
        {
          "output_type": "stream",
          "name": "stdout",
          "text": [
            "{'msg': '请求访问：/ypm/aiTraining/update/model，认证失败，无法访问系统资源', 'code': 401}\n"
          ]
        }
      ]
    }
  ],
  "metadata": {
    "accelerator": "GPU",
    "colab": {
      "provenance": [],
      "include_colab_link": true
    },
    "gpuClass": "standard",
    "kernelspec": {
      "display_name": "Python 3",
      "name": "python3"
    },
    "language_info": {
      "name": "python"
    }
  },
  "nbformat": 4,
  "nbformat_minor": 0
}